{
  "nbformat": 4,
  "nbformat_minor": 0,
  "metadata": {
    "colab": {
      "name": "SOM .ipynb",
      "provenance": [],
      "collapsed_sections": [],
      "include_colab_link": true
    },
    "kernelspec": {
      "name": "python3",
      "display_name": "Python 3"
    }
  },
  "cells": [
    {
      "cell_type": "markdown",
      "metadata": {
        "id": "view-in-github",
        "colab_type": "text"
      },
      "source": [
        "<a href=\"https://colab.research.google.com/github/vini1lol/Treinamento-rede-SOM/blob/master/SOM_.ipynb\" target=\"_parent\"><img src=\"https://colab.research.google.com/assets/colab-badge.svg\" alt=\"Open In Colab\"/></a>"
      ]
    },
    {
      "cell_type": "markdown",
      "metadata": {
        "id": "aOwlXLildt0Q"
      },
      "source": [
        "# SOM (Self-Organizing Map)\n",
        "\n",
        "O objetivo deste exemplo é treinar um modelo não-supervisionado.\n",
        "\n"
      ]
    },
    {
      "cell_type": "code",
      "metadata": {
        "id": "vIdkzBPodKS1"
      },
      "source": [
        "import pandas as pd\n",
        "import numpy as np"
      ],
      "execution_count": 2,
      "outputs": []
    },
    {
      "cell_type": "markdown",
      "metadata": {
        "id": "Lq10E2rzgIy1"
      },
      "source": [
        "## Carregando os dados"
      ]
    },
    {
      "cell_type": "code",
      "metadata": {
        "id": "WifPA4e_f31i",
        "colab": {
          "base_uri": "https://localhost:8080/",
          "height": 198
        },
        "outputId": "53b1658f-2920-457f-89e9-efb9d64f86e6"
      },
      "source": [
        "dataSet =  pd.read_csv(\"https://raw.githubusercontent.com/Natalnet/GCiD/master/Codes/Data/notas_lop_2017_2.csv\",index_col=False )\n",
        "dataSet.head()"
      ],
      "execution_count": 7,
      "outputs": [
        {
          "output_type": "execute_result",
          "data": {
            "text/html": [
              "<div>\n",
              "<style scoped>\n",
              "    .dataframe tbody tr th:only-of-type {\n",
              "        vertical-align: middle;\n",
              "    }\n",
              "\n",
              "    .dataframe tbody tr th {\n",
              "        vertical-align: top;\n",
              "    }\n",
              "\n",
              "    .dataframe thead th {\n",
              "        text-align: right;\n",
              "    }\n",
              "</style>\n",
              "<table border=\"1\" class=\"dataframe\">\n",
              "  <thead>\n",
              "    <tr style=\"text-align: right;\">\n",
              "      <th></th>\n",
              "      <th>Unnamed: 0</th>\n",
              "      <th>lab1</th>\n",
              "      <th>lab2</th>\n",
              "      <th>lab3</th>\n",
              "      <th>lab4</th>\n",
              "      <th>lab5</th>\n",
              "      <th>exe1</th>\n",
              "      <th>exe2</th>\n",
              "      <th>exe3</th>\n",
              "      <th>exe4</th>\n",
              "      <th>exe5</th>\n",
              "    </tr>\n",
              "  </thead>\n",
              "  <tbody>\n",
              "    <tr>\n",
              "      <th>0</th>\n",
              "      <td>0</td>\n",
              "      <td>10.0</td>\n",
              "      <td>10.0</td>\n",
              "      <td>2.0</td>\n",
              "      <td>4.0</td>\n",
              "      <td>10.0</td>\n",
              "      <td>3.333333</td>\n",
              "      <td>2.777778</td>\n",
              "      <td>4.000000</td>\n",
              "      <td>1.250</td>\n",
              "      <td>3.12500</td>\n",
              "    </tr>\n",
              "    <tr>\n",
              "      <th>1</th>\n",
              "      <td>1</td>\n",
              "      <td>0.0</td>\n",
              "      <td>6.4</td>\n",
              "      <td>10.0</td>\n",
              "      <td>NaN</td>\n",
              "      <td>10.0</td>\n",
              "      <td>0.000000</td>\n",
              "      <td>1.777778</td>\n",
              "      <td>2.666667</td>\n",
              "      <td>0.625</td>\n",
              "      <td>5.62500</td>\n",
              "    </tr>\n",
              "    <tr>\n",
              "      <th>2</th>\n",
              "      <td>4382</td>\n",
              "      <td>NaN</td>\n",
              "      <td>2.0</td>\n",
              "      <td>4.0</td>\n",
              "      <td>2.0</td>\n",
              "      <td>2.0</td>\n",
              "      <td>NaN</td>\n",
              "      <td>0.555556</td>\n",
              "      <td>3.106667</td>\n",
              "      <td>3.125</td>\n",
              "      <td>2.08125</td>\n",
              "    </tr>\n",
              "    <tr>\n",
              "      <th>3</th>\n",
              "      <td>4381</td>\n",
              "      <td>NaN</td>\n",
              "      <td>2.0</td>\n",
              "      <td>4.0</td>\n",
              "      <td>2.0</td>\n",
              "      <td>2.0</td>\n",
              "      <td>NaN</td>\n",
              "      <td>0.555556</td>\n",
              "      <td>3.106667</td>\n",
              "      <td>0.000</td>\n",
              "      <td>2.08125</td>\n",
              "    </tr>\n",
              "    <tr>\n",
              "      <th>4</th>\n",
              "      <td>4436</td>\n",
              "      <td>NaN</td>\n",
              "      <td>NaN</td>\n",
              "      <td>4.0</td>\n",
              "      <td>6.0</td>\n",
              "      <td>10.0</td>\n",
              "      <td>NaN</td>\n",
              "      <td>NaN</td>\n",
              "      <td>2.666667</td>\n",
              "      <td>1.875</td>\n",
              "      <td>3.12500</td>\n",
              "    </tr>\n",
              "  </tbody>\n",
              "</table>\n",
              "</div>"
            ],
            "text/plain": [
              "   Unnamed: 0  lab1  lab2  lab3  ...      exe2      exe3   exe4     exe5\n",
              "0           0  10.0  10.0   2.0  ...  2.777778  4.000000  1.250  3.12500\n",
              "1           1   0.0   6.4  10.0  ...  1.777778  2.666667  0.625  5.62500\n",
              "2        4382   NaN   2.0   4.0  ...  0.555556  3.106667  3.125  2.08125\n",
              "3        4381   NaN   2.0   4.0  ...  0.555556  3.106667  0.000  2.08125\n",
              "4        4436   NaN   NaN   4.0  ...       NaN  2.666667  1.875  3.12500\n",
              "\n",
              "[5 rows x 11 columns]"
            ]
          },
          "metadata": {
            "tags": []
          },
          "execution_count": 7
        }
      ]
    },
    {
      "cell_type": "markdown",
      "metadata": {
        "id": "KY6uxsIIm5VZ"
      },
      "source": [
        "## Tratamento dos dados"
      ]
    },
    {
      "cell_type": "code",
      "metadata": {
        "colab": {
          "base_uri": "https://localhost:8080/",
          "height": 198
        },
        "id": "bfLGIRWRI5sW",
        "outputId": "fccc9723-9c08-4c15-8f44-50e451fb0ef3"
      },
      "source": [
        "# Seleciona todos os espaços vazios(NaN) e troca por 0.0\n",
        "dataSet.fillna(0.0,inplace=True)\n",
        "dataSet.head()"
      ],
      "execution_count": 31,
      "outputs": [
        {
          "output_type": "execute_result",
          "data": {
            "text/html": [
              "<div>\n",
              "<style scoped>\n",
              "    .dataframe tbody tr th:only-of-type {\n",
              "        vertical-align: middle;\n",
              "    }\n",
              "\n",
              "    .dataframe tbody tr th {\n",
              "        vertical-align: top;\n",
              "    }\n",
              "\n",
              "    .dataframe thead th {\n",
              "        text-align: right;\n",
              "    }\n",
              "</style>\n",
              "<table border=\"1\" class=\"dataframe\">\n",
              "  <thead>\n",
              "    <tr style=\"text-align: right;\">\n",
              "      <th></th>\n",
              "      <th>Unnamed: 0</th>\n",
              "      <th>lab1</th>\n",
              "      <th>lab2</th>\n",
              "      <th>lab3</th>\n",
              "      <th>lab4</th>\n",
              "      <th>lab5</th>\n",
              "      <th>exe1</th>\n",
              "      <th>exe2</th>\n",
              "      <th>exe3</th>\n",
              "      <th>exe4</th>\n",
              "      <th>exe5</th>\n",
              "    </tr>\n",
              "  </thead>\n",
              "  <tbody>\n",
              "    <tr>\n",
              "      <th>0</th>\n",
              "      <td>0</td>\n",
              "      <td>10.0</td>\n",
              "      <td>10.0</td>\n",
              "      <td>2.0</td>\n",
              "      <td>4.0</td>\n",
              "      <td>10.0</td>\n",
              "      <td>3.333333</td>\n",
              "      <td>2.777778</td>\n",
              "      <td>4.000000</td>\n",
              "      <td>1.250</td>\n",
              "      <td>3.12500</td>\n",
              "    </tr>\n",
              "    <tr>\n",
              "      <th>1</th>\n",
              "      <td>1</td>\n",
              "      <td>0.0</td>\n",
              "      <td>6.4</td>\n",
              "      <td>10.0</td>\n",
              "      <td>0.0</td>\n",
              "      <td>10.0</td>\n",
              "      <td>0.000000</td>\n",
              "      <td>1.777778</td>\n",
              "      <td>2.666667</td>\n",
              "      <td>0.625</td>\n",
              "      <td>5.62500</td>\n",
              "    </tr>\n",
              "    <tr>\n",
              "      <th>2</th>\n",
              "      <td>4382</td>\n",
              "      <td>0.0</td>\n",
              "      <td>2.0</td>\n",
              "      <td>4.0</td>\n",
              "      <td>2.0</td>\n",
              "      <td>2.0</td>\n",
              "      <td>0.000000</td>\n",
              "      <td>0.555556</td>\n",
              "      <td>3.106667</td>\n",
              "      <td>3.125</td>\n",
              "      <td>2.08125</td>\n",
              "    </tr>\n",
              "    <tr>\n",
              "      <th>3</th>\n",
              "      <td>4381</td>\n",
              "      <td>0.0</td>\n",
              "      <td>2.0</td>\n",
              "      <td>4.0</td>\n",
              "      <td>2.0</td>\n",
              "      <td>2.0</td>\n",
              "      <td>0.000000</td>\n",
              "      <td>0.555556</td>\n",
              "      <td>3.106667</td>\n",
              "      <td>0.000</td>\n",
              "      <td>2.08125</td>\n",
              "    </tr>\n",
              "    <tr>\n",
              "      <th>4</th>\n",
              "      <td>4436</td>\n",
              "      <td>0.0</td>\n",
              "      <td>0.0</td>\n",
              "      <td>4.0</td>\n",
              "      <td>6.0</td>\n",
              "      <td>10.0</td>\n",
              "      <td>0.000000</td>\n",
              "      <td>0.000000</td>\n",
              "      <td>2.666667</td>\n",
              "      <td>1.875</td>\n",
              "      <td>3.12500</td>\n",
              "    </tr>\n",
              "  </tbody>\n",
              "</table>\n",
              "</div>"
            ],
            "text/plain": [
              "   Unnamed: 0  lab1  lab2  lab3  ...      exe2      exe3   exe4     exe5\n",
              "0           0  10.0  10.0   2.0  ...  2.777778  4.000000  1.250  3.12500\n",
              "1           1   0.0   6.4  10.0  ...  1.777778  2.666667  0.625  5.62500\n",
              "2        4382   0.0   2.0   4.0  ...  0.555556  3.106667  3.125  2.08125\n",
              "3        4381   0.0   2.0   4.0  ...  0.555556  3.106667  0.000  2.08125\n",
              "4        4436   0.0   0.0   4.0  ...  0.000000  2.666667  1.875  3.12500\n",
              "\n",
              "[5 rows x 11 columns]"
            ]
          },
          "metadata": {
            "tags": []
          },
          "execution_count": 31
        }
      ]
    },
    {
      "cell_type": "code",
      "metadata": {
        "colab": {
          "base_uri": "https://localhost:8080/",
          "height": 198
        },
        "id": "XTtDV0mnLD-b",
        "outputId": "40bfb76f-ac32-4cdb-aa11-2297acfc35f2"
      },
      "source": [
        "dataSet.drop(columns=\"Unnamed: 0\",inplace=True)\n",
        "dataSet.head()"
      ],
      "execution_count": 41,
      "outputs": [
        {
          "output_type": "execute_result",
          "data": {
            "text/html": [
              "<div>\n",
              "<style scoped>\n",
              "    .dataframe tbody tr th:only-of-type {\n",
              "        vertical-align: middle;\n",
              "    }\n",
              "\n",
              "    .dataframe tbody tr th {\n",
              "        vertical-align: top;\n",
              "    }\n",
              "\n",
              "    .dataframe thead th {\n",
              "        text-align: right;\n",
              "    }\n",
              "</style>\n",
              "<table border=\"1\" class=\"dataframe\">\n",
              "  <thead>\n",
              "    <tr style=\"text-align: right;\">\n",
              "      <th></th>\n",
              "      <th>lab1</th>\n",
              "      <th>lab2</th>\n",
              "      <th>lab3</th>\n",
              "      <th>lab4</th>\n",
              "      <th>lab5</th>\n",
              "      <th>exe1</th>\n",
              "      <th>exe2</th>\n",
              "      <th>exe3</th>\n",
              "      <th>exe4</th>\n",
              "      <th>exe5</th>\n",
              "    </tr>\n",
              "  </thead>\n",
              "  <tbody>\n",
              "    <tr>\n",
              "      <th>0</th>\n",
              "      <td>10.0</td>\n",
              "      <td>10.0</td>\n",
              "      <td>2.0</td>\n",
              "      <td>4.0</td>\n",
              "      <td>10.0</td>\n",
              "      <td>3.333333</td>\n",
              "      <td>2.777778</td>\n",
              "      <td>4.000000</td>\n",
              "      <td>1.250</td>\n",
              "      <td>3.12500</td>\n",
              "    </tr>\n",
              "    <tr>\n",
              "      <th>1</th>\n",
              "      <td>0.0</td>\n",
              "      <td>6.4</td>\n",
              "      <td>10.0</td>\n",
              "      <td>0.0</td>\n",
              "      <td>10.0</td>\n",
              "      <td>0.000000</td>\n",
              "      <td>1.777778</td>\n",
              "      <td>2.666667</td>\n",
              "      <td>0.625</td>\n",
              "      <td>5.62500</td>\n",
              "    </tr>\n",
              "    <tr>\n",
              "      <th>2</th>\n",
              "      <td>0.0</td>\n",
              "      <td>2.0</td>\n",
              "      <td>4.0</td>\n",
              "      <td>2.0</td>\n",
              "      <td>2.0</td>\n",
              "      <td>0.000000</td>\n",
              "      <td>0.555556</td>\n",
              "      <td>3.106667</td>\n",
              "      <td>3.125</td>\n",
              "      <td>2.08125</td>\n",
              "    </tr>\n",
              "    <tr>\n",
              "      <th>3</th>\n",
              "      <td>0.0</td>\n",
              "      <td>2.0</td>\n",
              "      <td>4.0</td>\n",
              "      <td>2.0</td>\n",
              "      <td>2.0</td>\n",
              "      <td>0.000000</td>\n",
              "      <td>0.555556</td>\n",
              "      <td>3.106667</td>\n",
              "      <td>0.000</td>\n",
              "      <td>2.08125</td>\n",
              "    </tr>\n",
              "    <tr>\n",
              "      <th>4</th>\n",
              "      <td>0.0</td>\n",
              "      <td>0.0</td>\n",
              "      <td>4.0</td>\n",
              "      <td>6.0</td>\n",
              "      <td>10.0</td>\n",
              "      <td>0.000000</td>\n",
              "      <td>0.000000</td>\n",
              "      <td>2.666667</td>\n",
              "      <td>1.875</td>\n",
              "      <td>3.12500</td>\n",
              "    </tr>\n",
              "  </tbody>\n",
              "</table>\n",
              "</div>"
            ],
            "text/plain": [
              "   lab1  lab2  lab3  lab4  lab5      exe1      exe2      exe3   exe4     exe5\n",
              "0  10.0  10.0   2.0   4.0  10.0  3.333333  2.777778  4.000000  1.250  3.12500\n",
              "1   0.0   6.4  10.0   0.0  10.0  0.000000  1.777778  2.666667  0.625  5.62500\n",
              "2   0.0   2.0   4.0   2.0   2.0  0.000000  0.555556  3.106667  3.125  2.08125\n",
              "3   0.0   2.0   4.0   2.0   2.0  0.000000  0.555556  3.106667  0.000  2.08125\n",
              "4   0.0   0.0   4.0   6.0  10.0  0.000000  0.000000  2.666667  1.875  3.12500"
            ]
          },
          "metadata": {
            "tags": []
          },
          "execution_count": 41
        }
      ]
    },
    {
      "cell_type": "code",
      "metadata": {
        "id": "4QH5Qw55nDht",
        "colab": {
          "base_uri": "https://localhost:8080/"
        },
        "outputId": "47381ed8-b661-4fd0-8858-db6e67c814cf"
      },
      "source": [
        "\n",
        "X_train = dataSet.values\n",
        "\n",
        "\n",
        "[row, col] = X_train.shape\n",
        "print (row,\" \",col)\n",
        "print(X_train[0])"
      ],
      "execution_count": 48,
      "outputs": [
        {
          "output_type": "stream",
          "text": [
            "298   10\n",
            "[10.         10.          2.          4.         10.          3.33333333\n",
            "  2.77777778  4.          1.25        3.125     ]\n"
          ],
          "name": "stdout"
        }
      ]
    },
    {
      "cell_type": "markdown",
      "metadata": {
        "id": "ctN4zaFIhKE2"
      },
      "source": [
        "## Treinamento "
      ]
    },
    {
      "cell_type": "code",
      "metadata": {
        "id": "X3nCAnvdhMp3",
        "colab": {
          "base_uri": "https://localhost:8080/"
        },
        "outputId": "258648c8-813a-4a76-dd6e-480443641a4d"
      },
      "source": [
        "# Instalando a MiniSOM\n",
        "!pip install minisom\n"
      ],
      "execution_count": 49,
      "outputs": [
        {
          "output_type": "stream",
          "text": [
            "Collecting minisom\n",
            "  Downloading https://files.pythonhosted.org/packages/00/4a/03dbf8480357a9fbd67a79fae8e510d55c42466fbe7744cb36bbd3e80267/MiniSom-2.2.8.tar.gz\n",
            "Building wheels for collected packages: minisom\n",
            "  Building wheel for minisom (setup.py) ... \u001b[?25l\u001b[?25hdone\n",
            "  Created wheel for minisom: filename=MiniSom-2.2.8-cp37-none-any.whl size=8604 sha256=7073b34c508d750e3205dcefba24b3e755c4f6f2a2aa7e7cf133c595334163bc\n",
            "  Stored in directory: /root/.cache/pip/wheels/78/7e/a8/435947263149d3b94fa65339751f8c65617c436b0bdfb29c7d\n",
            "Successfully built minisom\n",
            "Installing collected packages: minisom\n",
            "Successfully installed minisom-2.2.8\n"
          ],
          "name": "stdout"
        }
      ]
    },
    {
      "cell_type": "code",
      "metadata": {
        "id": "oqQnsjJtmjye"
      },
      "source": [
        "# Training the SOM\n",
        "tamanhoXdaRede = 6; \n",
        "tamanhoYdaRede = 6; \n",
        "\n",
        "quantidadeCaracteristicas = col\n",
        "from minisom import MiniSom\n",
        "som = MiniSom(x = tamanhoXdaRede, y = tamanhoYdaRede, input_len = quantidadeCaracteristicas, sigma = 1.0, learning_rate = 0.4)\n",
        "som.pca_weights_init(X_train)"
      ],
      "execution_count": 50,
      "outputs": []
    },
    {
      "cell_type": "code",
      "metadata": {
        "id": "vM-u1l6hn4Gr"
      },
      "source": [
        "som.train_random(data = X_train, num_iteration = 800000)"
      ],
      "execution_count": 51,
      "outputs": []
    },
    {
      "cell_type": "markdown",
      "metadata": {
        "id": "2ZlrcU4Gj8o8"
      },
      "source": [
        "## Visualização do treinamento "
      ]
    },
    {
      "cell_type": "code",
      "metadata": {
        "id": "zbRj-VuMoY5h"
      },
      "source": [
        "import matplotlib.pyplot as plt\n",
        "import numpy as np\n",
        "# Obtem o vetor de pesos da rede treinada \n",
        "pesos = som.get_weights()"
      ],
      "execution_count": 52,
      "outputs": []
    },
    {
      "cell_type": "code",
      "metadata": {
        "id": "q_8UZMZqjngh",
        "colab": {
          "base_uri": "https://localhost:8080/",
          "height": 269
        },
        "outputId": "65124738-7cd9-4290-f481-2c7d5d59daef"
      },
      "source": [
        "# Mostra todos os pesos \n",
        "cont = 1;\n",
        "x = np.arange(quantidadeCaracteristicas)\n",
        "for row in pesos:\n",
        "  for elem in row:\n",
        "    plt.subplot(tamanhoXdaRede,tamanhoYdaRede,cont)\n",
        "    cont=cont+1\n",
        "    plt.axis([-1, 6, 0, 10])\n",
        "    plt.bar(x, elem)\n",
        "    plt.plot([-1,6],[5,5],'r')\n",
        "plt.show()\n",
        "#plt.savefig(\"test_som.jpg\", dpi=150)"
      ],
      "execution_count": 53,
      "outputs": [
        {
          "output_type": "display_data",
          "data": {
            "image/png": "[encoded data removed]",
            "text/plain": [
              "<Figure size 432x288 with 36 Axes>"
            ]
          },
          "metadata": {
            "tags": [],
            "needs_background": "light"
          }
        }
      ]
    },
    {
      "cell_type": "code",
      "metadata": {
        "id": "0pDaYrD2jNBA"
      },
      "source": [
        "def mostraNeuronio(linha,coluna): \n",
        "  # Mostra um peso \n",
        "  x = dataSet.columns\n",
        "  plt.plot([-1,10],[5,5],'r')\n",
        "  plt.axis([-1, 10, 0, 10])\n",
        "  plt.bar(x, pesos[linha,coluna,:])\n",
        "  plt.show()"
      ],
      "execution_count": 72,
      "outputs": []
    },
    {
      "cell_type": "code",
      "metadata": {
        "id": "nPpNvzViopb6",
        "colab": {
          "base_uri": "https://localhost:8080/",
          "height": 269
        },
        "outputId": "68ae3d8a-d902-410c-96f8-356a5793cd33"
      },
      "source": [
        "mostraNeuronio(5,5)"
      ],
      "execution_count": 73,
      "outputs": [
        {
          "output_type": "display_data",
          "data": {
            "image/png": "[encoded data removed]",
            "text/plain": [
              "<Figure size 432x288 with 1 Axes>"
            ]
          },
          "metadata": {
            "tags": [],
            "needs_background": "light"
          }
        }
      ]
    },
    {
      "cell_type": "code",
      "metadata": {
        "id": "y5GU0Bmdqzn_",
        "colab": {
          "base_uri": "https://localhost:8080/",
          "height": 269
        },
        "outputId": "62315fd7-e337-460e-b4ba-ac2d5648f79c"
      },
      "source": [
        "mostraNeuronio(0,0)"
      ],
      "execution_count": 74,
      "outputs": [
        {
          "output_type": "display_data",
          "data": {
            "image/png": "[encoded data removed]",
            "text/plain": [
              "<Figure size 432x288 with 1 Axes>"
            ]
          },
          "metadata": {
            "tags": [],
            "needs_background": "light"
          }
        }
      ]
    }
  ]
}